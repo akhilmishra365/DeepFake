{
  "nbformat": 4,
  "nbformat_minor": 0,
  "metadata": {
    "colab": {
      "provenance": [],
      "include_colab_link": true
    },
    "kernelspec": {
      "name": "python3",
      "display_name": "Python 3"
    },
    "accelerator": "GPU"
  },
  "cells": [
    {
      "cell_type": "markdown",
      "metadata": {
        "id": "view-in-github",
        "colab_type": "text"
      },
      "source": [
        "<a href=\"https://colab.research.google.com/github/akhilmishra365/DeepFake/blob/main/Assignment.ipynb\" target=\"_parent\"><img src=\"https://colab.research.google.com/assets/colab-badge.svg\" alt=\"Open In Colab\"/></a>"
      ]
    },
    {
      "cell_type": "markdown",
      "metadata": {
        "id": "vSQFs_G8caeE"
      },
      "source": [
        "# Collab preliminaries"
      ]
    },
    {
      "cell_type": "code",
      "metadata": {
        "id": "XIVB0Xn1g6ih",
        "colab": {
          "base_uri": "https://localhost:8080/"
        },
        "outputId": "41d564aa-0d45-4758-982b-aaf6891e11a0"
      },
      "source": [
        "!nvcc --version"
      ],
      "execution_count": 22,
      "outputs": [
        {
          "output_type": "stream",
          "name": "stdout",
          "text": [
            "nvcc: NVIDIA (R) Cuda compiler driver\n",
            "Copyright (c) 2005-2022 NVIDIA Corporation\n",
            "Built on Wed_Sep_21_10:33:58_PDT_2022\n",
            "Cuda compilation tools, release 11.8, V11.8.89\n",
            "Build cuda_11.8.r11.8/compiler.31833905_0\n"
          ]
        }
      ]
    },
    {
      "cell_type": "code",
      "metadata": {
        "id": "qciH4PsUazL_",
        "colab": {
          "base_uri": "https://localhost:8080/"
        },
        "outputId": "75ac636e-bc9c-4134-eaf4-8c30dd08d490"
      },
      "source": [
        "from google.colab import drive\n",
        "drive.mount('/content/gdrive')"
      ],
      "execution_count": 23,
      "outputs": [
        {
          "output_type": "stream",
          "name": "stdout",
          "text": [
            "Drive already mounted at /content/gdrive; to attempt to forcibly remount, call drive.mount(\"/content/gdrive\", force_remount=True).\n"
          ]
        }
      ]
    },
    {
      "cell_type": "markdown",
      "metadata": {
        "id": "yJ5taGmPcWV-"
      },
      "source": [
        "# Get the code and models"
      ]
    },
    {
      "cell_type": "code",
      "metadata": {
        "id": "P3LihClHbUd3",
        "colab": {
          "base_uri": "https://localhost:8080/"
        },
        "outputId": "e7cecfbc-4803-44f0-e55e-538b90964f7a"
      },
      "source": [
        "!git clone https://github.com/Rudrabha/Wav2Lip.git"
      ],
      "execution_count": 24,
      "outputs": [
        {
          "output_type": "stream",
          "name": "stdout",
          "text": [
            "fatal: destination path 'Wav2Lip' already exists and is not an empty directory.\n"
          ]
        }
      ]
    },
    {
      "cell_type": "code",
      "metadata": {
        "id": "y-19nzx8SamJ",
        "colab": {
          "base_uri": "https://localhost:8080/"
        },
        "outputId": "769f0c4a-695d-441d-93dc-f1695018e6dd"
      },
      "source": [
        "!ls /content/gdrive/MyDrive/Wav2Lip"
      ],
      "execution_count": 25,
      "outputs": [
        {
          "output_type": "stream",
          "name": "stdout",
          "text": [
            "test.mp4  test.wav\n"
          ]
        }
      ]
    },
    {
      "cell_type": "code",
      "metadata": {
        "id": "YjzMPy_Sb0AI",
        "colab": {
          "base_uri": "https://localhost:8080/"
        },
        "outputId": "5c7ede14-dcac-47c4-8934-53ec80a2e3f4"
      },
      "source": [
        "!cp -ri \"/content/gdrive/MyDrive/Wav2lip/wav2lip.pth\" /content/Wav2Lip/checkpoints/"
      ],
      "execution_count": 26,
      "outputs": [
        {
          "output_type": "stream",
          "name": "stdout",
          "text": [
            "cp: overwrite '/content/Wav2Lip/checkpoints/wav2lip.pth'? y\n"
          ]
        }
      ]
    },
    {
      "cell_type": "markdown",
      "metadata": {
        "id": "aWTaOS3ncFt6"
      },
      "source": [
        "# Get the pre-requisites"
      ]
    },
    {
      "cell_type": "code",
      "metadata": {
        "id": "Ooh28vw-Uvd3",
        "colab": {
          "base_uri": "https://localhost:8080/"
        },
        "outputId": "4807aa9e-2d23-4076-e9c7-cf014d53181e"
      },
      "source": [
        "!pip uninstall tensorflow tensorflow-gpu"
      ],
      "execution_count": 27,
      "outputs": [
        {
          "output_type": "stream",
          "name": "stdout",
          "text": [
            "\u001b[33mWARNING: Skipping tensorflow as it is not installed.\u001b[0m\u001b[33m\n",
            "\u001b[0m\u001b[33mWARNING: Skipping tensorflow-gpu as it is not installed.\u001b[0m\u001b[33m\n",
            "\u001b[0m"
          ]
        }
      ]
    },
    {
      "cell_type": "code",
      "metadata": {
        "id": "49dCYlLdcK2D",
        "colab": {
          "base_uri": "https://localhost:8080/"
        },
        "outputId": "92571270-ee2f-4630-d8fb-3907dfb950f2"
      },
      "source": [
        "!cd Wav2Lip && pip install -r requirements.txt"
      ],
      "execution_count": 28,
      "outputs": [
        {
          "output_type": "stream",
          "name": "stdout",
          "text": [
            "Collecting librosa==0.7.0 (from -r requirements.txt (line 1))\n",
            "  Using cached librosa-0.7.0.tar.gz (1.6 MB)\n",
            "  Preparing metadata (setup.py) ... \u001b[?25l\u001b[?25hdone\n",
            "Collecting numpy==1.17.1 (from -r requirements.txt (line 2))\n",
            "  Using cached numpy-1.17.1.zip (6.5 MB)\n",
            "  Preparing metadata (setup.py) ... \u001b[?25l\u001b[?25hdone\n",
            "Requirement already satisfied: opencv-contrib-python>=4.2.0.34 in /usr/local/lib/python3.10/dist-packages (from -r requirements.txt (line 3)) (4.8.0.76)\n",
            "\u001b[31mERROR: Could not find a version that satisfies the requirement opencv-python==4.1.0.25 (from versions: 3.4.0.14, 3.4.10.37, 3.4.11.39, 3.4.11.41, 3.4.11.43, 3.4.11.45, 3.4.13.47, 3.4.15.55, 3.4.16.57, 3.4.16.59, 3.4.17.61, 3.4.17.63, 3.4.18.65, 4.3.0.38, 4.4.0.40, 4.4.0.42, 4.4.0.44, 4.4.0.46, 4.5.1.48, 4.5.3.56, 4.5.4.58, 4.5.4.60, 4.5.5.62, 4.5.5.64, 4.6.0.66, 4.7.0.68, 4.7.0.72, 4.8.0.74, 4.8.0.76)\u001b[0m\u001b[31m\n",
            "\u001b[0m\u001b[31mERROR: No matching distribution found for opencv-python==4.1.0.25\u001b[0m\u001b[31m\n",
            "\u001b[0m"
          ]
        }
      ]
    },
    {
      "cell_type": "code",
      "metadata": {
        "id": "ey_bN4M6X_95",
        "colab": {
          "base_uri": "https://localhost:8080/"
        },
        "outputId": "69ae7fe7-35bb-4712-f893-ab712410664d"
      },
      "source": [
        "!wget \"https://www.adrianbulat.com/downloads/python-fan/s3fd-619a316812.pth\" -O \"Wav2Lip/face_detection/detection/sfd/s3fd.pth\""
      ],
      "execution_count": 29,
      "outputs": [
        {
          "output_type": "stream",
          "name": "stdout",
          "text": [
            "--2023-08-26 11:00:18--  https://www.adrianbulat.com/downloads/python-fan/s3fd-619a316812.pth\n",
            "Resolving www.adrianbulat.com (www.adrianbulat.com)... 45.136.29.207\n",
            "Connecting to www.adrianbulat.com (www.adrianbulat.com)|45.136.29.207|:443... connected.\n",
            "HTTP request sent, awaiting response... 200 OK\n",
            "Length: 89843225 (86M) [application/octet-stream]\n",
            "Saving to: ‘Wav2Lip/face_detection/detection/sfd/s3fd.pth’\n",
            "\n",
            "Wav2Lip/face_detect 100%[===================>]  85.68M  16.7MB/s    in 5.7s    \n",
            "\n",
            "2023-08-26 11:00:24 (15.0 MB/s) - ‘Wav2Lip/face_detection/detection/sfd/s3fd.pth’ saved [89843225/89843225]\n",
            "\n"
          ]
        }
      ]
    },
    {
      "cell_type": "markdown",
      "metadata": {
        "id": "qdIQfY2Kswcb"
      },
      "source": [
        "# Now lets try!"
      ]
    },
    {
      "cell_type": "code",
      "metadata": {
        "id": "KoVGMtjRZfeR",
        "colab": {
          "base_uri": "https://localhost:8080/"
        },
        "outputId": "1faa2243-ad14-47b5-dcad-1b2569dc876e"
      },
      "source": [
        "!cp \"/content/gdrive/My Drive/Wav2Lip/test.mp4\" \"/content/gdrive/My Drive/Wav2Lip/test.wav\" sample_data/\n",
        "!ls sample_data/"
      ],
      "execution_count": 30,
      "outputs": [
        {
          "output_type": "stream",
          "name": "stdout",
          "text": [
            "anscombe.json\t\t      mnist_test.csv\t     test.mp4\n",
            "california_housing_test.csv   mnist_train_small.csv  test.wav\n",
            "california_housing_train.csv  README.md\n"
          ]
        }
      ]
    },
    {
      "cell_type": "code",
      "metadata": {
        "id": "jR5utmDMcSZY",
        "colab": {
          "base_uri": "https://localhost:8080/"
        },
        "outputId": "fe1e12bd-cae3-4de0-9e7c-4efb113c1722"
      },
      "source": [
        "!cd Wav2Lip && python inference.py --checkpoint_path checkpoints/wav2lip.pth --face \"../sample_data/test.mp4\" --audio \"../sample_data/test.wav\" --resize_factor 2"
      ],
      "execution_count": 31,
      "outputs": [
        {
          "output_type": "stream",
          "name": "stdout",
          "text": [
            "Using cuda for inference.\n",
            "Reading video frames...\n",
            "Number of frames available for inference: 2011\n",
            "(80, 5386)\n",
            "Length of mel chunks: 2016\n",
            "  0% 0/16 [00:00<?, ?it/s]\n",
            "  0% 0/126 [00:00<?, ?it/s]\u001b[A\n",
            "  1% 1/126 [00:23<49:52, 23.94s/it]\u001b[A\n",
            "  2% 2/126 [00:25<22:33, 10.92s/it]\u001b[A\n",
            "  2% 3/126 [00:27<13:40,  6.67s/it]\u001b[A\n",
            "  3% 4/126 [00:29<09:33,  4.70s/it]\u001b[A\n",
            "  4% 5/126 [00:30<07:20,  3.64s/it]\u001b[A\n",
            "  5% 6/126 [00:32<06:06,  3.06s/it]\u001b[A\n",
            "  6% 7/126 [00:34<05:15,  2.65s/it]\u001b[A\n",
            "  6% 8/126 [00:36<04:40,  2.38s/it]\u001b[A\n",
            "  7% 9/126 [00:38<04:18,  2.21s/it]\u001b[A\n",
            "  8% 10/126 [00:40<04:02,  2.09s/it]\u001b[A\n",
            "  9% 11/126 [00:41<03:51,  2.01s/it]\u001b[A\n",
            " 10% 12/126 [00:43<03:46,  1.98s/it]\u001b[A\n",
            " 10% 13/126 [00:45<03:40,  1.95s/it]\u001b[A\n",
            " 11% 14/126 [00:47<03:37,  1.94s/it]\u001b[A\n",
            " 12% 15/126 [00:49<03:32,  1.92s/it]\u001b[A\n",
            " 13% 16/126 [00:51<03:23,  1.85s/it]\u001b[A\n",
            " 13% 17/126 [00:52<03:17,  1.81s/it]\u001b[A\n",
            " 14% 18/126 [00:54<03:11,  1.78s/it]\u001b[A\n",
            " 15% 19/126 [00:56<03:06,  1.74s/it]\u001b[A\n",
            " 16% 20/126 [00:57<03:04,  1.74s/it]\u001b[A\n",
            " 17% 21/126 [00:59<03:04,  1.75s/it]\u001b[A\n",
            " 17% 22/126 [01:01<03:09,  1.83s/it]\u001b[A\n",
            " 18% 23/126 [01:03<03:10,  1.85s/it]\u001b[A\n",
            " 19% 24/126 [01:05<03:04,  1.81s/it]\u001b[A\n",
            " 20% 25/126 [01:06<02:59,  1.77s/it]\u001b[A\n",
            " 21% 26/126 [01:08<02:54,  1.75s/it]\u001b[A\n",
            " 21% 27/126 [01:10<02:52,  1.75s/it]\u001b[A\n",
            " 22% 28/126 [01:12<02:50,  1.74s/it]\u001b[A\n",
            " 23% 29/126 [01:14<02:55,  1.81s/it]\u001b[A\n",
            " 24% 30/126 [01:16<02:58,  1.86s/it]\u001b[A\n",
            " 25% 31/126 [01:18<02:58,  1.88s/it]\u001b[A\n",
            " 25% 32/126 [01:19<02:53,  1.85s/it]\u001b[A\n",
            " 26% 33/126 [01:21<02:48,  1.82s/it]\u001b[A\n",
            " 27% 34/126 [01:23<02:45,  1.79s/it]\u001b[A\n",
            " 28% 35/126 [01:25<02:41,  1.77s/it]\u001b[A\n",
            " 29% 36/126 [01:26<02:37,  1.75s/it]\u001b[A\n",
            " 29% 37/126 [01:28<02:36,  1.76s/it]\u001b[A\n",
            " 30% 38/126 [01:30<02:39,  1.81s/it]\u001b[A\n",
            " 31% 39/126 [01:32<02:40,  1.84s/it]\u001b[A\n",
            " 32% 40/126 [01:34<02:35,  1.81s/it]\u001b[A\n",
            " 33% 41/126 [01:35<02:32,  1.79s/it]\u001b[A\n",
            " 33% 42/126 [01:37<02:29,  1.78s/it]\u001b[A\n",
            " 34% 43/126 [01:39<02:27,  1.77s/it]\u001b[A\n",
            " 35% 44/126 [01:41<02:25,  1.78s/it]\u001b[A\n",
            " 36% 45/126 [01:43<02:29,  1.84s/it]\u001b[A\n",
            " 37% 46/126 [01:45<02:30,  1.88s/it]\u001b[A\n",
            " 37% 47/126 [01:46<02:25,  1.84s/it]\u001b[A\n",
            " 38% 48/126 [01:48<02:20,  1.80s/it]\u001b[A\n",
            " 39% 49/126 [01:50<02:17,  1.78s/it]\u001b[A\n",
            " 40% 50/126 [01:51<02:14,  1.76s/it]\u001b[A\n",
            " 40% 51/126 [01:53<02:11,  1.76s/it]\u001b[A\n",
            " 41% 52/126 [01:55<02:10,  1.77s/it]\u001b[A\n",
            " 42% 53/126 [01:57<02:14,  1.84s/it]\u001b[A\n",
            " 43% 54/126 [01:59<02:13,  1.86s/it]\u001b[A\n",
            " 44% 55/126 [02:01<02:08,  1.81s/it]\u001b[A\n",
            " 44% 56/126 [02:02<02:04,  1.78s/it]\u001b[A\n",
            " 45% 57/126 [02:04<02:01,  1.77s/it]\u001b[A\n",
            " 46% 58/126 [02:06<01:58,  1.75s/it]\u001b[A\n",
            " 47% 59/126 [02:07<01:56,  1.73s/it]\u001b[A\n",
            " 48% 60/126 [02:09<01:56,  1.76s/it]\u001b[A\n",
            " 48% 61/126 [02:11<01:59,  1.84s/it]\u001b[A\n",
            " 49% 62/126 [02:13<01:58,  1.85s/it]\u001b[A\n",
            " 50% 63/126 [02:15<01:53,  1.81s/it]\u001b[A\n",
            " 51% 64/126 [02:17<01:50,  1.78s/it]\u001b[A\n",
            " 52% 65/126 [02:18<01:47,  1.76s/it]\u001b[A\n",
            " 52% 66/126 [02:20<01:44,  1.75s/it]\u001b[A\n",
            " 53% 67/126 [02:22<01:42,  1.73s/it]\u001b[A\n",
            " 54% 68/126 [02:23<01:40,  1.73s/it]\u001b[A\n",
            " 55% 69/126 [02:25<01:42,  1.79s/it]\u001b[A\n",
            " 56% 70/126 [02:27<01:41,  1.82s/it]\u001b[A\n",
            " 56% 71/126 [02:29<01:38,  1.78s/it]\u001b[A\n",
            " 57% 72/126 [02:31<01:34,  1.76s/it]\u001b[A\n",
            " 58% 73/126 [02:32<01:32,  1.74s/it]\u001b[A\n",
            " 59% 74/126 [02:34<01:29,  1.73s/it]\u001b[A\n",
            " 60% 75/126 [02:36<01:27,  1.72s/it]\u001b[A\n",
            " 60% 76/126 [02:38<01:27,  1.74s/it]\u001b[A\n",
            " 61% 77/126 [02:40<01:28,  1.81s/it]\u001b[A\n",
            " 62% 78/126 [02:41<01:28,  1.84s/it]\u001b[A\n",
            " 63% 79/126 [02:43<01:24,  1.80s/it]\u001b[A\n",
            " 63% 80/126 [02:45<01:21,  1.78s/it]\u001b[A\n",
            " 64% 81/126 [02:47<01:19,  1.77s/it]\u001b[A\n",
            " 65% 82/126 [02:48<01:17,  1.76s/it]\u001b[A\n",
            " 66% 83/126 [02:50<01:16,  1.77s/it]\u001b[A\n",
            " 67% 84/126 [02:52<01:16,  1.82s/it]\u001b[A\n",
            " 67% 85/126 [02:54<01:15,  1.84s/it]\u001b[A\n",
            " 68% 86/126 [02:56<01:12,  1.80s/it]\u001b[A\n",
            " 69% 87/126 [02:57<01:09,  1.79s/it]\u001b[A\n",
            " 70% 88/126 [02:59<01:07,  1.78s/it]\u001b[A\n",
            " 71% 89/126 [03:01<01:05,  1.77s/it]\u001b[A\n",
            " 71% 90/126 [03:03<01:03,  1.75s/it]\u001b[A\n",
            " 72% 91/126 [03:04<01:01,  1.76s/it]\u001b[A\n",
            " 73% 92/126 [03:06<01:01,  1.81s/it]\u001b[A\n",
            " 74% 93/126 [03:08<01:01,  1.86s/it]\u001b[A\n",
            " 75% 94/126 [03:10<01:00,  1.89s/it]\u001b[A\n",
            " 75% 95/126 [03:12<00:58,  1.88s/it]\u001b[A\n",
            " 76% 96/126 [03:14<00:54,  1.83s/it]\u001b[A\n",
            " 77% 97/126 [03:16<00:52,  1.81s/it]\u001b[A\n",
            " 78% 98/126 [03:18<00:51,  1.85s/it]\u001b[A\n",
            " 79% 99/126 [03:20<00:50,  1.88s/it]\u001b[A\n",
            " 79% 100/126 [03:21<00:49,  1.91s/it]\u001b[A\n",
            " 80% 101/126 [03:23<00:47,  1.90s/it]\u001b[A\n",
            " 81% 102/126 [03:25<00:44,  1.84s/it]\u001b[A\n",
            " 82% 103/126 [03:27<00:41,  1.80s/it]\u001b[A\n",
            " 83% 104/126 [03:29<00:39,  1.79s/it]\u001b[A\n",
            " 83% 105/126 [03:30<00:37,  1.77s/it]\u001b[A\n",
            " 84% 106/126 [03:32<00:35,  1.78s/it]\u001b[A\n",
            " 85% 107/126 [03:34<00:34,  1.83s/it]\u001b[A\n",
            " 86% 108/126 [03:36<00:33,  1.86s/it]\u001b[A\n",
            " 87% 109/126 [03:38<00:31,  1.82s/it]\u001b[A\n",
            " 87% 110/126 [03:39<00:28,  1.80s/it]\u001b[A\n",
            " 88% 111/126 [03:41<00:26,  1.78s/it]\u001b[A\n",
            " 89% 112/126 [03:43<00:24,  1.76s/it]\u001b[A\n",
            " 90% 113/126 [03:45<00:22,  1.74s/it]\u001b[A\n",
            " 90% 114/126 [03:46<00:21,  1.76s/it]\u001b[A\n",
            " 91% 115/126 [03:48<00:20,  1.84s/it]\u001b[A\n",
            " 92% 116/126 [03:50<00:18,  1.85s/it]\u001b[A\n",
            " 93% 117/126 [03:52<00:16,  1.81s/it]\u001b[A\n",
            " 94% 118/126 [03:54<00:14,  1.78s/it]\u001b[A\n",
            " 94% 119/126 [03:55<00:12,  1.76s/it]\u001b[A\n",
            " 95% 120/126 [03:57<00:10,  1.76s/it]\u001b[A\n",
            " 96% 121/126 [03:59<00:08,  1.75s/it]\u001b[A\n",
            " 97% 122/126 [04:01<00:06,  1.75s/it]\u001b[A\n",
            " 98% 123/126 [04:03<00:05,  1.80s/it]\u001b[A\n",
            " 98% 124/126 [04:04<00:03,  1.82s/it]\u001b[A\n",
            " 99% 125/126 [04:06<00:01,  1.79s/it]\u001b[A\n",
            "100% 126/126 [04:23<00:00,  2.09s/it]\n",
            "Load checkpoint from: checkpoints/wav2lip.pth\n",
            "Model loaded\n",
            "100% 16/16 [04:55<00:00, 18.45s/it]\n",
            "ffmpeg version 4.4.2-0ubuntu0.22.04.1 Copyright (c) 2000-2021 the FFmpeg developers\n",
            "  built with gcc 11 (Ubuntu 11.2.0-19ubuntu1)\n",
            "  configuration: --prefix=/usr --extra-version=0ubuntu0.22.04.1 --toolchain=hardened --libdir=/usr/lib/x86_64-linux-gnu --incdir=/usr/include/x86_64-linux-gnu --arch=amd64 --enable-gpl --disable-stripping --enable-gnutls --enable-ladspa --enable-libaom --enable-libass --enable-libbluray --enable-libbs2b --enable-libcaca --enable-libcdio --enable-libcodec2 --enable-libdav1d --enable-libflite --enable-libfontconfig --enable-libfreetype --enable-libfribidi --enable-libgme --enable-libgsm --enable-libjack --enable-libmp3lame --enable-libmysofa --enable-libopenjpeg --enable-libopenmpt --enable-libopus --enable-libpulse --enable-librabbitmq --enable-librubberband --enable-libshine --enable-libsnappy --enable-libsoxr --enable-libspeex --enable-libsrt --enable-libssh --enable-libtheora --enable-libtwolame --enable-libvidstab --enable-libvorbis --enable-libvpx --enable-libwebp --enable-libx265 --enable-libxml2 --enable-libxvid --enable-libzimg --enable-libzmq --enable-libzvbi --enable-lv2 --enable-omx --enable-openal --enable-opencl --enable-opengl --enable-sdl2 --enable-pocketsphinx --enable-librsvg --enable-libmfx --enable-libdc1394 --enable-libdrm --enable-libiec61883 --enable-chromaprint --enable-frei0r --enable-libx264 --enable-shared\n",
            "  libavutil      56. 70.100 / 56. 70.100\n",
            "  libavcodec     58.134.100 / 58.134.100\n",
            "  libavformat    58. 76.100 / 58. 76.100\n",
            "  libavdevice    58. 13.100 / 58. 13.100\n",
            "  libavfilter     7.110.100 /  7.110.100\n",
            "  libswscale      5.  9.100 /  5.  9.100\n",
            "  libswresample   3.  9.100 /  3.  9.100\n",
            "  libpostproc    55.  9.100 / 55.  9.100\n",
            "\u001b[0;35m[mp3 @ 0x5c9e791b42c0] \u001b[0m\u001b[0;33mEstimating duration from bitrate, this may be inaccurate\n",
            "\u001b[0mInput #0, mp3, from '../sample_data/test.wav':\n",
            "  Duration: 00:01:07.32, start: 0.000000, bitrate: 96 kb/s\n",
            "  Stream #0:0: Audio: mp3, 44100 Hz, mono, fltp, 96 kb/s\n",
            "Input #1, avi, from 'temp/result.avi':\n",
            "  Metadata:\n",
            "    software        : Lavf59.27.100\n",
            "  Duration: 00:01:07.20, start: 0.000000, bitrate: 1275 kb/s\n",
            "  Stream #1:0: Video: mpeg4 (Simple Profile) (DIVX / 0x58564944), yuv420p, 960x540 [SAR 1:1 DAR 16:9], 1269 kb/s, 30 fps, 30 tbr, 30 tbn, 30 tbc\n",
            "Stream mapping:\n",
            "  Stream #1:0 -> #0:0 (mpeg4 (native) -> h264 (libx264))\n",
            "  Stream #0:0 -> #0:1 (mp3 (mp3float) -> aac (native))\n",
            "Press [q] to stop, [?] for help\n",
            "\u001b[1;36m[libx264 @ 0x5c9e791f7b80] \u001b[0m\u001b[0;33m-qscale is ignored, -crf is recommended.\n",
            "\u001b[0m\u001b[1;36m[libx264 @ 0x5c9e791f7b80] \u001b[0musing SAR=1/1\n",
            "\u001b[1;36m[libx264 @ 0x5c9e791f7b80] \u001b[0musing cpu capabilities: MMX2 SSE2Fast SSSE3 SSE4.2 AVX FMA3 BMI2 AVX2\n",
            "\u001b[1;36m[libx264 @ 0x5c9e791f7b80] \u001b[0mprofile High, level 3.1, 4:2:0, 8-bit\n",
            "\u001b[1;36m[libx264 @ 0x5c9e791f7b80] \u001b[0m264 - core 163 r3060 5db6aa6 - H.264/MPEG-4 AVC codec - Copyleft 2003-2021 - http://www.videolan.org/x264.html - options: cabac=1 ref=3 deblock=1:0:0 analyse=0x3:0x113 me=hex subme=7 psy=1 psy_rd=1.00:0.00 mixed_ref=1 me_range=16 chroma_me=1 trellis=1 8x8dct=1 cqm=0 deadzone=21,11 fast_pskip=1 chroma_qp_offset=-2 threads=3 lookahead_threads=1 sliced_threads=0 nr=0 decimate=1 interlaced=0 bluray_compat=0 constrained_intra=0 bframes=3 b_pyramid=2 b_adapt=1 b_bias=0 direct=1 weightb=1 open_gop=0 weightp=2 keyint=250 keyint_min=25 scenecut=40 intra_refresh=0 rc_lookahead=40 rc=crf mbtree=1 crf=23.0 qcomp=0.60 qpmin=0 qpmax=69 qpstep=4 ip_ratio=1.40 aq=1:1.00\n",
            "Output #0, mp4, to 'results/result_voice.mp4':\n",
            "  Metadata:\n",
            "    encoder         : Lavf58.76.100\n",
            "  Stream #0:0: Video: h264 (avc1 / 0x31637661), yuv420p(progressive), 960x540 [SAR 1:1 DAR 16:9], q=2-31, 30 fps, 15360 tbn\n",
            "    Metadata:\n",
            "      encoder         : Lavc58.134.100 libx264\n",
            "    Side data:\n",
            "      cpb: bitrate max/min/avg: 0/0/0 buffer size: 0 vbv_delay: N/A\n",
            "  Stream #0:1: Audio: aac (LC) (mp4a / 0x6134706D), 44100 Hz, mono, fltp, 69 kb/s\n",
            "    Metadata:\n",
            "      encoder         : Lavc58.134.100 aac\n",
            "frame= 2016 fps= 48 q=-1.0 Lsize=    5388kB time=00:01:07.31 bitrate= 655.7kbits/s speed=1.59x    \n",
            "video:4751kB audio:571kB subtitle:0kB other streams:0kB global headers:0kB muxing overhead: 1.244174%\n",
            "\u001b[1;36m[libx264 @ 0x5c9e791f7b80] \u001b[0mframe I:10    Avg QP:16.15  size: 13761\n",
            "\u001b[1;36m[libx264 @ 0x5c9e791f7b80] \u001b[0mframe P:1338  Avg QP:20.49  size:  3032\n",
            "\u001b[1;36m[libx264 @ 0x5c9e791f7b80] \u001b[0mframe B:668   Avg QP:23.07  size:  1003\n",
            "\u001b[1;36m[libx264 @ 0x5c9e791f7b80] \u001b[0mconsecutive B-frames: 48.4% 17.9% 13.5% 20.2%\n",
            "\u001b[1;36m[libx264 @ 0x5c9e791f7b80] \u001b[0mmb I  I16..4: 36.3% 57.9%  5.8%\n",
            "\u001b[1;36m[libx264 @ 0x5c9e791f7b80] \u001b[0mmb P  I16..4:  1.2%  5.7%  0.2%  P16..4: 18.8%  5.3%  2.4%  0.0%  0.0%    skip:66.4%\n",
            "\u001b[1;36m[libx264 @ 0x5c9e791f7b80] \u001b[0mmb B  I16..4:  0.3%  1.1%  0.0%  B16..8: 21.2%  1.4%  0.1%  direct: 0.5%  skip:75.4%  L0:48.9% L1:48.0% BI: 3.1%\n",
            "\u001b[1;36m[libx264 @ 0x5c9e791f7b80] \u001b[0m8x8 transform intra:78.3% inter:83.4%\n",
            "\u001b[1;36m[libx264 @ 0x5c9e791f7b80] \u001b[0mcoded y,uvDC,uvAC intra: 29.6% 31.7% 6.1% inter: 5.2% 4.7% 0.1%\n",
            "\u001b[1;36m[libx264 @ 0x5c9e791f7b80] \u001b[0mi16 v,h,dc,p: 44% 35% 15%  6%\n",
            "\u001b[1;36m[libx264 @ 0x5c9e791f7b80] \u001b[0mi8 v,h,dc,ddl,ddr,vr,hd,vl,hu: 29% 17% 44%  2%  2%  2%  2%  2%  2%\n",
            "\u001b[1;36m[libx264 @ 0x5c9e791f7b80] \u001b[0mi4 v,h,dc,ddl,ddr,vr,hd,vl,hu: 28% 29% 16%  3%  6%  6%  6%  4%  3%\n",
            "\u001b[1;36m[libx264 @ 0x5c9e791f7b80] \u001b[0mi8c dc,h,v,p: 54% 23% 21%  3%\n",
            "\u001b[1;36m[libx264 @ 0x5c9e791f7b80] \u001b[0mWeighted P-Frames: Y:0.1% UV:0.0%\n",
            "\u001b[1;36m[libx264 @ 0x5c9e791f7b80] \u001b[0mref P L0: 74.5% 11.9% 10.2%  3.5%  0.0%\n",
            "\u001b[1;36m[libx264 @ 0x5c9e791f7b80] \u001b[0mref B L0: 84.9% 12.2%  2.9%\n",
            "\u001b[1;36m[libx264 @ 0x5c9e791f7b80] \u001b[0mref B L1: 98.0%  2.0%\n",
            "\u001b[1;36m[libx264 @ 0x5c9e791f7b80] \u001b[0mkb/s:579.05\n",
            "\u001b[1;36m[aac @ 0x5c9e791f9a40] \u001b[0mQavg: 158.533\n"
          ]
        }
      ]
    },
    {
      "cell_type": "code",
      "source": [
        "a = []\n",
        "while(1):\n",
        "    a.append('1')"
      ],
      "metadata": {
        "id": "shpKHQyj8pXk"
      },
      "execution_count": null,
      "outputs": []
    },
    {
      "cell_type": "code",
      "metadata": {
        "id": "uNOAZvkszEOw"
      },
      "source": [
        "# use the \"files\" button on the left to download the result in the Wav2Lip/results/ folder."
      ],
      "execution_count": 1,
      "outputs": []
    },
    {
      "cell_type": "markdown",
      "metadata": {
        "id": "d7zgfrQqbKom"
      },
      "source": [
        "## **Variations to try**\n"
      ]
    },
    {
      "cell_type": "markdown",
      "metadata": {
        "id": "0f9A9VDVbZAG"
      },
      "source": [
        "1.   Use more padding to include the chin region"
      ]
    },
    {
      "cell_type": "code",
      "metadata": {
        "id": "45XW4SZAzIz5",
        "colab": {
          "base_uri": "https://localhost:8080/"
        },
        "outputId": "63d025a2-9b96-4414-f9e5-e710fa694975"
      },
      "source": [
        "!cd Wav2Lip && python inference.py --checkpoint_path checkpoints/wav2lip.pth --face \"../sample_data/test.mp4\" --audio \"../sample_data/test.wav\" --pads 0 20 0 0"
      ],
      "execution_count": 4,
      "outputs": [
        {
          "output_type": "stream",
          "name": "stdout",
          "text": [
            "Using cuda for inference.\n",
            "Reading video frames...\n",
            "^C\n"
          ]
        }
      ]
    },
    {
      "cell_type": "markdown",
      "metadata": {
        "id": "uo-WnsxfbwTG"
      },
      "source": [
        "2.   Use resize_factor to reduce the video resolution, as there is a change you might get better results for lower resolution videos. Why? Because the model was trained on low resolution faces."
      ]
    },
    {
      "cell_type": "code",
      "metadata": {
        "id": "xw0xFtZ2bsx8"
      },
      "source": [
        "!cd Wav2Lip && python inference.py --checkpoint_path checkpoints/wav2lip_gan.pth --face \"../sample_data/input_vid.mp4\" --audio \"../sample_data/input_audio.wav\" --resize_factor 1"
      ],
      "execution_count": null,
      "outputs": []
    }
  ]
}